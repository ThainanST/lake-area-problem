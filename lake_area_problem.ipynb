{
  "nbformat": 4,
  "nbformat_minor": 0,
  "metadata": {
    "colab": {
      "name": "lake_area_problem.ipynb",
      "provenance": [],
      "collapsed_sections": [],
      "include_colab_link": true
    },
    "kernelspec": {
      "name": "python3",
      "display_name": "Python 3"
    },
    "language_info": {
      "name": "python"
    }
  },
  "cells": [
    {
      "cell_type": "markdown",
      "metadata": {
        "id": "view-in-github",
        "colab_type": "text"
      },
      "source": [
        "<a href=\"https://colab.research.google.com/github/ThainanST/lake-area-problem/blob/main/lake_area_problem.ipynb\" target=\"_parent\"><img src=\"https://colab.research.google.com/assets/colab-badge.svg\" alt=\"Open In Colab\"/></a>"
      ]
    },
    {
      "cell_type": "markdown",
      "source": [
        "# Python Lake Area Challenge\n",
        "\n"
      ],
      "metadata": {
        "id": "3ZLqMhUapp4O"
      }
    },
    {
      "cell_type": "markdown",
      "source": [
        "\n",
        "You will have an array (a list of lists) containing `0`s and `1`s. Each `0` represents land and each `1` represents water. A lake is made up of any number of vertically or horizontally adjacent (but not diagonally adjacent) `1`s. The number of adjacent `1`s determines the area of the lake.\n",
        "\n",
        "Write a function that returns a list with the areas of the lakes contained in the matrix in ascending order."
      ],
      "metadata": {
        "id": "0Zj3u99uRFqI"
      }
    },
    {
      "cell_type": "markdown",
      "source": [
        "An example is:\n",
        "\n",
        "given the matrix\n",
        "\n",
        "```\n",
        "matrix = [\n",
        "    [1, 1, 0, 1, 0],\n",
        "    [1, 0, 1, 0, 0],\n",
        "    [0, 0, 1, 0, 1],\n",
        "    [1, 0, 1, 0, 1],\n",
        "    [1, 0, 1, 1, 0]\n",
        "]\n",
        "```\n",
        "The expected response is a list of lake sizes:\n",
        "\n",
        "```\n",
        "sizes = [1, 2, 2, 3, 5]\n",
        "```"
      ],
      "metadata": {
        "id": "46MxEtZhVS1Q"
      }
    },
    {
      "cell_type": "markdown",
      "source": [
        "# Solution"
      ],
      "metadata": {
        "id": "Y6XikAy6CYLK"
      }
    },
    {
      "cell_type": "markdown",
      "source": [
        "Two auxiliary matrices are fundamental in the algorithm:\n",
        "\n",
        "- `map_draft`: copy the data, but the lakes are removed along the way\n",
        "- `lake_draft`: auxiliary matrix for accounting for a lake."
      ],
      "metadata": {
        "id": "Agegu7fxG_5O"
      }
    },
    {
      "cell_type": "markdown",
      "source": [
        "![image.png](data:image/png;base64,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)"
      ],
      "metadata": {
        "id": "7euLIeh7HDsp"
      }
    },
    {
      "cell_type": "markdown",
      "source": [
        "Algorithm description:\n",
        "\n",
        "1. Main loop scans `map_draft` until it finds water;\n",
        "2. The `lake_draft` array is reset'\n",
        "3. When water is found, searches are carried out in the surroundings:\n",
        "- If water is found, the lake grows (`lake_draft`);\n",
        "- New searches and updates are made;\n",
        "- When no new water is found, the lake area is counted;\n",
        "- The accounted lake is removed from `map_draft`;\n",
        "4. The process is repeated until no water is found in `map_draft`;\n",
        "5. The process is finished.\n"
      ],
      "metadata": {
        "id": "_UblVd3sDGKc"
      }
    },
    {
      "cell_type": "code",
      "source": [
        "%reset -f\n",
        "from typing import List\n",
        "import copy\n",
        "\n",
        "class WaterAndLand:\n",
        "    def start(self, lake_data: List[List[int]]):\n",
        "        self.map_draft: List[List[int]]    = copy.deepcopy(lake_data)\n",
        "        self.lake_draft: List[List[int]]   = copy.deepcopy(lake_data)\n",
        "        self.num_rows: int                 = len(lake_data)\n",
        "        self.num_columns: int              = len(lake_data[0])\n",
        "        self.current_lake_information: List = []\n",
        "        self.lake_areas_info: List[int]    = []\n",
        "    \n",
        "    def complete_reset_on_lake_draft(self):\n",
        "        self.lake_draft = [[0 for col in range(self.num_columns) ] for row in range(self.num_rows) ]\n",
        "    \n",
        "    def reset_current_lake_information(self):\n",
        "        self.current_lake_information = []\n",
        "        \n",
        "    def remove_lake_from_map_draft(self):\n",
        "        for location in self.current_lake_information:\n",
        "            row = location[0]\n",
        "            col = location[1]\n",
        "            self.map_draft[row][col] = 0\n",
        "    \n",
        "    def add_lake_information(self, row: int, column: int):\n",
        "        pair = [row, column]\n",
        "        if pair not in self.current_lake_information:\n",
        "            self.current_lake_information.append(pair)\n",
        "    \n",
        "    def add_mark_on_lake_draft(self, row: int, column: int):\n",
        "        self.lake_draft[row][column] = 1\n",
        "        self.add_lake_information(row, column)\n",
        "    \n",
        "    def increment_lake_count(self, area: int):\n",
        "        self.lake_areas_info.append(area)\n",
        "    \n",
        "    def get_lake_area(self) -> int:\n",
        "        return sum( [ sum(self.lake_draft[row]) for row in range(self.num_rows)] )\n",
        "    \n",
        "    def search_above(self, row: int, column: int):\n",
        "        row_above = row-1 if row-1 >0 else 0\n",
        "        if self.map_draft[row_above][column] == 1:\n",
        "            self.add_mark_on_lake_draft(row_above, column)\n",
        "    \n",
        "    def search_below(self, row: int, column: int):\n",
        "        row_below = row+1 if (row+1 < self.num_rows-1) else self.num_rows-1\n",
        "        if self.map_draft[row_below][column] == 1:\n",
        "            self.add_mark_on_lake_draft(row_below, column)\n",
        "    \n",
        "    def search_left(self, row: int, column: int):\n",
        "        column_left = column-1 if column-1 >0 else 0\n",
        "        if self.map_draft[row][column_left] == 1:\n",
        "            self.add_mark_on_lake_draft(row, column_left)\n",
        "    \n",
        "    def search_right(self, row: int, column: int):\n",
        "        column_right = column+1 if column+1 < self.num_columns-1 else self.num_columns-1\n",
        "        if self.map_draft[row][column_right] == 1:\n",
        "            self.add_mark_on_lake_draft(row, column_right)  \n",
        "    \n",
        "    def search_around_draft(self, row: int, column: int):\n",
        "        self.search_above(row, column)\n",
        "        self.search_below(row, column)\n",
        "        self.search_left(row, column)\n",
        "        self.search_right(row, column)\n",
        "    \n",
        "    def search_lake_curves(self, init_row: int, init_column: int):\n",
        "        self.reset_current_lake_information()\n",
        "        self.complete_reset_on_lake_draft()\n",
        "        self.add_mark_on_lake_draft(init_row, init_column)\n",
        "        search_is_finished = False\n",
        "\n",
        "        while search_is_finished == False:\n",
        "            current_ordered_pair_info = copy.deepcopy(self.current_lake_information)\n",
        "            for location in current_ordered_pair_info:\n",
        "                self.search_around_draft(location[0], location[1])\n",
        "            points_before_search = len(current_ordered_pair_info)\n",
        "            points_after_search  = len(self.current_lake_information)\n",
        "            if (points_before_search == points_after_search):\n",
        "                search_is_finished = True\n",
        "                \n",
        "        lake_area = self.get_lake_area()\n",
        "        self.increment_lake_count(lake_area)\n",
        "        self.remove_lake_from_map_draft()\n",
        "        self.reset_current_lake_information()\n",
        "        self.complete_reset_on_lake_draft()\n",
        "        \n",
        "    def is_there_any_water_in_map_draft(self) -> bool:\n",
        "        isThereWater = True in [True if 1 in self.map_draft[iRow] else False for iRow in range(self.num_rows)]\n",
        "        return isThereWater\n",
        "    \n",
        "    def next_search_point(self) -> int:\n",
        "        for iRow in range(self.num_rows):\n",
        "            for iCol in range(self.num_columns):\n",
        "                if self.map_draft[iRow][iCol] == 1:\n",
        "                    return iRow, iCol\n",
        "        \n",
        "        \n",
        "    def search_lakes_routine(self):\n",
        "        while self.is_there_any_water_in_map_draft():\n",
        "            iRow, iCol = self.next_search_point()\n",
        "            self.search_lake_curves(iRow, iCol)\n",
        "        \n",
        "    \n",
        "    def lake_areas(self, lake_data: List[List[int]]) -> List[int]:\n",
        "        self.start(lake_data)\n",
        "        self.search_lakes_routine()\n",
        "        self.lake_areas_info.sort()\n",
        "        return self.lake_areas_info\n",
        "\n",
        "def lake_areas(m):\n",
        "  return WaterAndLand().lake_areas(m)"
      ],
      "metadata": {
        "id": "4NasPfMBvGGT"
      },
      "execution_count": 1,
      "outputs": []
    },
    {
      "cell_type": "code",
      "source": [
        "matrix = [\n",
        "    [1, 1, 0, 1, 0],\n",
        "    [1, 0, 1, 0, 0],\n",
        "    [0, 0, 1, 0, 1],\n",
        "    [1, 0, 1, 0, 1],\n",
        "    [1, 0, 1, 1, 0]\n",
        "]\n",
        "\n",
        "lake_areas(matrix)"
      ],
      "metadata": {
        "id": "PJmEoiM3vQ71",
        "colab": {
          "base_uri": "https://localhost:8080/"
        },
        "outputId": "1d08b4ab-1a93-4e6f-f5cb-9281470af7af"
      },
      "execution_count": 2,
      "outputs": [
        {
          "output_type": "execute_result",
          "data": {
            "text/plain": [
              "[1, 2, 2, 3, 5]"
            ]
          },
          "metadata": {},
          "execution_count": 2
        }
      ]
    },
    {
      "cell_type": "markdown",
      "source": [
        "# Test Algorithm"
      ],
      "metadata": {
        "id": "ucFpKMbczATy"
      }
    },
    {
      "cell_type": "code",
      "source": [
        "import unittest\n",
        "import numpy as np\n",
        "\n",
        "class TestResults(unittest.TestCase):\n",
        "  def test_example(self):\n",
        "    matrix = [\n",
        "      [1, 1, 0, 1, 0],\n",
        "      [1, 0, 1, 0, 0],\n",
        "      [0, 0, 1, 0, 1],\n",
        "      [1, 0, 1, 0, 1],\n",
        "      [1, 0, 1, 1, 0]\n",
        "    ]\n",
        "\n",
        "    solution = [1, 2, 2, 3, 5]\n",
        "\n",
        "    assert lake_areas(matrix) == solution\n",
        "\n",
        "\n",
        "  def test_identity(self):\n",
        "    matrix = np.identity(4, dtype=int).tolist()\n",
        "\n",
        "    solution = [1, 1, 1, 1]\n",
        "\n",
        "    assert lake_areas(matrix) == solution\n",
        "\n",
        "  \n",
        "  def test_none(self):\n",
        "    matrix = np.zeros([6,6], dtype=int).tolist()\n",
        "    solution = []\n",
        "\n",
        "    assert lake_areas(matrix) == solution\n",
        "\n",
        "  \n",
        "  def test_full(self):\n",
        "    matrix = np.ones([9,9], dtype=int).tolist()\n",
        "    solution = [81]\n",
        "\n",
        "    assert lake_areas(matrix) == solution\n",
        "\n",
        "\n",
        "  def test_irregular_ones(self):\n",
        "    matrix = np.ones([7, 3], dtype=int).tolist()\n",
        "    solution = [21]\n",
        "\n",
        "    assert lake_areas(matrix) == solution\n",
        "\n",
        "\n",
        "  def test_irregular_zeros(self):\n",
        "    matrix = np.zeros([17, 25], dtype=int).tolist()\n",
        "    solution = []\n",
        "\n",
        "    assert lake_areas(matrix) == solution\n",
        "\n",
        "  \n",
        "  def test_big_identity(self):\n",
        "    matrix = np.identity(999, dtype=int).tolist()\n",
        "\n",
        "    solution = np.ones(999, dtype=int).tolist()\n",
        "\n",
        "    assert lake_areas(matrix) == solution\n",
        "\n",
        "\n",
        "  def test_bigger_example(self):\n",
        "    matrix = [\n",
        "      [1, 1, 0, 1, 0, 0, 0, 0, 0, 0, 0, 0],\n",
        "      [1, 0, 1, 1, 1, 0, 0, 0, 0, 0, 0, 0],\n",
        "      [0, 0, 1, 0, 1, 0, 0, 0, 0, 0, 0, 0],\n",
        "      [1, 0, 1, 0, 1, 1, 0, 0, 0, 0, 0, 0],\n",
        "      [1, 0, 0, 1, 1, 1, 1, 0, 0, 0, 0, 0],\n",
        "      [1, 0, 1, 1, 0, 0, 0, 1, 1, 0, 0, 0],\n",
        "      [1, 0, 1, 1, 0, 0, 0, 0, 1, 1, 1, 0],\n",
        "      [1, 0, 1, 1, 0, 0, 0, 0, 0, 0, 1, 0],\n",
        "      [0, 0, 1, 1, 0, 0, 0, 0, 0, 0, 0, 1],\n",
        "    ]\n",
        "\n",
        "    solution = [1, 3, 5, 6, 21]\n",
        "\n",
        "    assert lake_areas(matrix) == solution\n",
        "\n",
        "unittest.main(argv=[''], verbosity=2, exit=False)"
      ],
      "metadata": {
        "id": "Al6ua-5LfptQ",
        "outputId": "0f35f633-2650-4467-cf7a-fa15eefc784a",
        "colab": {
          "base_uri": "https://localhost:8080/"
        }
      },
      "execution_count": null,
      "outputs": [
        {
          "output_type": "stream",
          "name": "stderr",
          "text": [
            "test_big_identity (__main__.TestResults) ... ok\n",
            "test_bigger_example (__main__.TestResults) ... ok\n",
            "test_example (__main__.TestResults) ... ok\n",
            "test_full (__main__.TestResults) ... ok\n",
            "test_identity (__main__.TestResults) ... ok\n",
            "test_irregular_ones (__main__.TestResults) ... ok\n",
            "test_irregular_zeros (__main__.TestResults) ... ok\n",
            "test_none (__main__.TestResults) ... ok\n",
            "\n",
            "----------------------------------------------------------------------\n",
            "Ran 8 tests in 177.159s\n",
            "\n",
            "OK\n"
          ]
        },
        {
          "output_type": "execute_result",
          "data": {
            "text/plain": [
              "<unittest.main.TestProgram at 0x7fb856764590>"
            ]
          },
          "metadata": {},
          "execution_count": 7
        }
      ]
    }
  ]
}